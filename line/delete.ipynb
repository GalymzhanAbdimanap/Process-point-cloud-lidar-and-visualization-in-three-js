{
 "cells": [
  {
   "cell_type": "code",
   "execution_count": 1,
   "metadata": {},
   "outputs": [],
   "source": [
    "xyz_file='userFile_old.txt' #input file\n",
    "txt_file='userFile.txt' #intermediate file\n",
    "pcd_file='koridor.pcd' #output file"
   ]
  },
  {
   "cell_type": "code",
   "execution_count": 2,
   "metadata": {},
   "outputs": [],
   "source": [
    "MyArray = []\n",
    "with open(xyz_file) as f:\n",
    "    for line in f:\n",
    "        inner_list = [elt.strip() for elt in line.split(' ')]\n",
    "        # in alternative, if you need to use the file content as numbers\n",
    "        # inner_list = [int(elt.strip()) for elt in line.split(',')]\n",
    "        MyArray.append(inner_list)"
   ]
  },
  {
   "cell_type": "code",
   "execution_count": 3,
   "metadata": {},
   "outputs": [],
   "source": [
    "newArr = [x for x in MyArray if max(list(map(int,x)))<500 and min(list(map(int,x)))>-500]"
   ]
  },
  {
   "cell_type": "code",
   "execution_count": 4,
   "metadata": {},
   "outputs": [],
   "source": [
    "#DElim na 1000 chtob ymenshit  koordinaty\n",
    "MyArr2 = []\n",
    "MyArr3 = []\n",
    "for i in range(len(newArr)):\n",
    "    for j in range(len(newArr[i])):\n",
    "        q = int(newArr[i][j])\n",
    "        MyArr2.append(q)\n",
    "    MyArr3.append(MyArr2)\n",
    "    MyArr2=[]"
   ]
  },
  {
   "cell_type": "code",
   "execution_count": 5,
   "metadata": {},
   "outputs": [],
   "source": [
    "f = open(txt_file, 'w')\n",
    "for index  in range(len(MyArr3)):\n",
    "    f.write(str(MyArr3[index]) + '\\n')\n",
    "f.close()"
   ]
  },
  {
   "cell_type": "code",
   "execution_count": 12,
   "metadata": {},
   "outputs": [
    {
     "name": "stdout",
     "output_type": "stream",
     "text": [
      "[496, 78, 153]\n",
      "[-419, 104, 157]\n"
     ]
    }
   ],
   "source": [
    "print(max(MyArr3))\n",
    "print(min(MyArr3))"
   ]
  },
  {
   "cell_type": "code",
   "execution_count": 6,
   "metadata": {},
   "outputs": [],
   "source": [
    "with open(txt_file, 'r') as file:\n",
    "    filedata = file.read()\n",
    "    \n",
    "filedata = filedata.replace('[', '')\n",
    "filedata = filedata.replace(']', '')\n",
    "filedata = filedata.replace(',', '')\n",
    "\n",
    "with open(txt_file, 'w') as file:\n",
    "    file.write(filedata)\n"
   ]
  },
  {
   "cell_type": "code",
   "execution_count": 6,
   "metadata": {},
   "outputs": [],
   "source": [
    "filenames = ['format_pcd.txt', txt_file]\n",
    "with open(pcd_file, 'w') as outfile:\n",
    "    for fname in filenames:\n",
    "        #print(fname)\n",
    "        with open(fname) as infile:\n",
    "            for line in infile:\n",
    "                outfile.write(line+'\\n') "
   ]
  }
 ],
 "metadata": {
  "kernelspec": {
   "display_name": "Python 3",
   "language": "python",
   "name": "python3"
  },
  "language_info": {
   "codemirror_mode": {
    "name": "ipython",
    "version": 3
   },
   "file_extension": ".py",
   "mimetype": "text/x-python",
   "name": "python",
   "nbconvert_exporter": "python",
   "pygments_lexer": "ipython3",
   "version": "3.6.8"
  }
 },
 "nbformat": 4,
 "nbformat_minor": 2
}
